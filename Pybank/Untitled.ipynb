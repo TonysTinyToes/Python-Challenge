{
 "cells": [
  {
   "cell_type": "code",
   "execution_count": 11,
   "id": "efbc6ded",
   "metadata": {},
   "outputs": [],
   "source": [
    "# %load main.py\n",
    "#import dependencies\n",
    "import csv\n",
    "\n",
    "# bring in our csv file\n",
    "with open('../Pybank/Resources/budget_data.csv', 'r') as bd_file:\n",
    "    reader = csv.reader(bd_file)\n",
    "\n"
   ]
  },
  {
   "cell_type": "code",
   "execution_count": 12,
   "id": "7e125bab",
   "metadata": {},
   "outputs": [],
   "source": [
    "#initialize variables\n",
    "total_months = 0\n",
    "total_loss = 0\n",
    "previous_month_loss = 0\n",
    "profit_loss_list = []\n",
    "max_increase = 0\n",
    "max_increase_month = ''\n",
    "max_decrease = 0\n",
    "max_decrease_month = ''"
   ]
  },
  {
   "cell_type": "code",
   "execution_count": 13,
   "id": "b5473fab",
   "metadata": {},
   "outputs": [
    {
     "ename": "ValueError",
     "evalue": "I/O operation on closed file.",
     "output_type": "error",
     "traceback": [
      "\u001b[1;31m---------------------------------------------------------------------------\u001b[0m",
      "\u001b[1;31mValueError\u001b[0m                                Traceback (most recent call last)",
      "\u001b[1;32m~\\AppData\\Local\\Temp\\ipykernel_7840\\683200301.py\u001b[0m in \u001b[0;36m<module>\u001b[1;34m\u001b[0m\n\u001b[0;32m      1\u001b[0m \u001b[1;31m# Skip the header row\u001b[0m\u001b[1;33m\u001b[0m\u001b[1;33m\u001b[0m\u001b[1;33m\u001b[0m\u001b[0m\n\u001b[1;32m----> 2\u001b[1;33m \u001b[0mnext\u001b[0m\u001b[1;33m(\u001b[0m\u001b[0mreader\u001b[0m\u001b[1;33m)\u001b[0m\u001b[1;33m\u001b[0m\u001b[1;33m\u001b[0m\u001b[0m\n\u001b[0m\u001b[0;32m      3\u001b[0m \u001b[1;33m\u001b[0m\u001b[0m\n\u001b[0;32m      4\u001b[0m \u001b[1;32mfor\u001b[0m \u001b[0mrow\u001b[0m \u001b[1;32min\u001b[0m \u001b[0mreader\u001b[0m\u001b[1;33m:\u001b[0m\u001b[1;33m\u001b[0m\u001b[1;33m\u001b[0m\u001b[0m\n\u001b[0;32m      5\u001b[0m     \u001b[1;31m# Count the total number of months\u001b[0m\u001b[1;33m\u001b[0m\u001b[1;33m\u001b[0m\u001b[1;33m\u001b[0m\u001b[0m\n",
      "\u001b[1;31mValueError\u001b[0m: I/O operation on closed file."
     ]
    }
   ],
   "source": [
    "# Skip the header row\n",
    "next(reader)\n",
    "\n",
    "for row in reader:\n",
    "    # Count the total number of months\n",
    "    total_months += total_months\n",
    "\n",
    "    # Calculate the net total amount of profit/losses over the entire period\n",
    "    total_loss += int(row[1])\n",
    "\n",
    "    # Calculate the change in profit/loss from the previous month\n",
    "    profit_loss_change = int(row[1]) - previous_month_loss\n",
    "\n",
    "    # Add the profit/loss change to a list (for calculating the averag)\n",
    "    profit_loss_list.append(profit_loss_change)\n",
    "\n",
    "    # Check for the greatest increase in profits\n",
    "    if profit_loss_change > max_increase:\n",
    "        max_increase = profit_loss_change\n",
    "        max_increae_month = row[0]\n",
    "\n",
    "    # Check for the greatest decrease in profits\n",
    "    if profit_loss_change > max_decrease:\n",
    "        max_decrease = profit_loss_change\n",
    "        max_decrease_month = row[0]\n",
    "\n",
    "    # Set the previous month's profit/loss to the current row's value \n",
    "    previous_month_loss = int(row[1])\n",
    "\n",
    "#calculate average change over period\n",
    "\n",
    "average_change = sum(profit_loss_list) / len(profit_loss_list)\n"
   ]
  },
  {
   "cell_type": "code",
   "execution_count": null,
   "id": "c9834288",
   "metadata": {},
   "outputs": [],
   "source": [
    "\n",
    "print(\"Financial Analysis\")\n",
    "print(\"-------------------------\")\n",
    "print(\"Total Months: \" + str(total_months))\n",
    "print(\"Total: \" + str(total_loss))\n",
    "print(\"Average Change\" + str(average_change))\n",
    "print(\"Greatest Increase in Profits: \" + str(max_increase_month) + \"\" + str(max_increase)) \n",
    "print(\"Greatest Decrease in Profits: \" + str(max_decrease_month) + \"\" + str(max_decrease))\n"
   ]
  }
 ],
 "metadata": {
  "kernelspec": {
   "display_name": "PythonData",
   "language": "python",
   "name": "pythondata"
  },
  "language_info": {
   "codemirror_mode": {
    "name": "ipython",
    "version": 3
   },
   "file_extension": ".py",
   "mimetype": "text/x-python",
   "name": "python",
   "nbconvert_exporter": "python",
   "pygments_lexer": "ipython3",
   "version": "3.7.7"
  }
 },
 "nbformat": 4,
 "nbformat_minor": 5
}
